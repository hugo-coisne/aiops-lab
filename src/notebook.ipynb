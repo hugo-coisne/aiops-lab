{
 "cells": [
  {
   "cell_type": "code",
   "execution_count": 3,
   "metadata": {},
   "outputs": [],
   "source": [
    "import pandas as pd\n"
   ]
  },
  {
   "cell_type": "markdown",
   "metadata": {},
   "source": [
    "Loading"
   ]
  },
  {
   "cell_type": "code",
   "execution_count": 4,
   "metadata": {},
   "outputs": [],
   "source": [
    "df_parsed = pd.read_csv('../csv/BGL.csv')\n",
    "entries_count = df_parsed.shape[0]\n",
    "anomalies_count = df_parsed[df_parsed['Label']!='-'].shape[0]\n",
    "anomalies_entries_ratio = anomalies_count/entries_count"
   ]
  },
  {
   "cell_type": "code",
   "execution_count": 5,
   "metadata": {},
   "outputs": [],
   "source": [
    "df_aggregated= pd.read_csv('../csv/BGL-aggregated2.csv')\n",
    "windows_count = df_aggregated.shape[0]\n",
    "anomalous_windows_count = df_aggregated['Anomaly'].sum()\n",
    "anomalous_windows_ratio = anomalous_windows_count/windows_count"
   ]
  },
  {
   "cell_type": "markdown",
   "metadata": {},
   "source": [
    "Stats"
   ]
  },
  {
   "cell_type": "code",
   "execution_count": 6,
   "metadata": {},
   "outputs": [
    {
     "name": "stdout",
     "output_type": "stream",
     "text": [
      "Entries count : 2615219\n",
      "Anomalies count : 215528\n",
      "Anomalies/entries rate : 8.24 %\n"
     ]
    }
   ],
   "source": [
    "print('Entries count :',entries_count)\n",
    "print('Anomalies count :',anomalies_count)\n",
    "print('Anomalies/entries rate :',round(anomalies_entries_ratio*100, 2),'%')"
   ]
  },
  {
   "cell_type": "code",
   "execution_count": 7,
   "metadata": {},
   "outputs": [
    {
     "data": {
      "text/html": [
       "<div>\n",
       "<style scoped>\n",
       "    .dataframe tbody tr th:only-of-type {\n",
       "        vertical-align: middle;\n",
       "    }\n",
       "\n",
       "    .dataframe tbody tr th {\n",
       "        vertical-align: top;\n",
       "    }\n",
       "\n",
       "    .dataframe thead th {\n",
       "        text-align: right;\n",
       "    }\n",
       "</style>\n",
       "<table border=\"1\" class=\"dataframe\">\n",
       "  <thead>\n",
       "    <tr style=\"text-align: right;\">\n",
       "      <th></th>\n",
       "      <th>Unnamed: 0</th>\n",
       "      <th>Label</th>\n",
       "      <th>Timestamp</th>\n",
       "      <th>Date</th>\n",
       "      <th>Node</th>\n",
       "      <th>Time</th>\n",
       "      <th>NodeRepeat</th>\n",
       "      <th>Type</th>\n",
       "      <th>Component</th>\n",
       "      <th>Level</th>\n",
       "      <th>Content</th>\n",
       "      <th>Template</th>\n",
       "      <th>Event</th>\n",
       "    </tr>\n",
       "  </thead>\n",
       "  <tbody>\n",
       "    <tr>\n",
       "      <th>0</th>\n",
       "      <td>0</td>\n",
       "      <td>-</td>\n",
       "      <td>1117838570</td>\n",
       "      <td>2005.06.03</td>\n",
       "      <td>R02-M1-N0-C:J12-U11</td>\n",
       "      <td>2005-06-03-15.42.50.363779</td>\n",
       "      <td>R02-M1-N0-C:J12-U11</td>\n",
       "      <td>RAS</td>\n",
       "      <td>KERNEL</td>\n",
       "      <td>INFO</td>\n",
       "      <td>instruction cache parity error corrected</td>\n",
       "      <td>instruction cache parity error corrected</td>\n",
       "      <td>E1</td>\n",
       "    </tr>\n",
       "    <tr>\n",
       "      <th>1</th>\n",
       "      <td>1</td>\n",
       "      <td>-</td>\n",
       "      <td>1117838570</td>\n",
       "      <td>2005.06.03</td>\n",
       "      <td>R02-M1-N0-C:J12-U11</td>\n",
       "      <td>2005-06-03-15.42.50.527847</td>\n",
       "      <td>R02-M1-N0-C:J12-U11</td>\n",
       "      <td>RAS</td>\n",
       "      <td>KERNEL</td>\n",
       "      <td>INFO</td>\n",
       "      <td>instruction cache parity error corrected</td>\n",
       "      <td>instruction cache parity error corrected</td>\n",
       "      <td>E1</td>\n",
       "    </tr>\n",
       "    <tr>\n",
       "      <th>2</th>\n",
       "      <td>2</td>\n",
       "      <td>-</td>\n",
       "      <td>1117838570</td>\n",
       "      <td>2005.06.03</td>\n",
       "      <td>R02-M1-N0-C:J12-U11</td>\n",
       "      <td>2005-06-03-15.42.50.675872</td>\n",
       "      <td>R02-M1-N0-C:J12-U11</td>\n",
       "      <td>RAS</td>\n",
       "      <td>KERNEL</td>\n",
       "      <td>INFO</td>\n",
       "      <td>instruction cache parity error corrected</td>\n",
       "      <td>instruction cache parity error corrected</td>\n",
       "      <td>E1</td>\n",
       "    </tr>\n",
       "    <tr>\n",
       "      <th>3</th>\n",
       "      <td>3</td>\n",
       "      <td>-</td>\n",
       "      <td>1117838570</td>\n",
       "      <td>2005.06.03</td>\n",
       "      <td>R02-M1-N0-C:J12-U11</td>\n",
       "      <td>2005-06-03-15.42.50.823719</td>\n",
       "      <td>R02-M1-N0-C:J12-U11</td>\n",
       "      <td>RAS</td>\n",
       "      <td>KERNEL</td>\n",
       "      <td>INFO</td>\n",
       "      <td>instruction cache parity error corrected</td>\n",
       "      <td>instruction cache parity error corrected</td>\n",
       "      <td>E1</td>\n",
       "    </tr>\n",
       "    <tr>\n",
       "      <th>4</th>\n",
       "      <td>4</td>\n",
       "      <td>-</td>\n",
       "      <td>1117838570</td>\n",
       "      <td>2005.06.03</td>\n",
       "      <td>R02-M1-N0-C:J12-U11</td>\n",
       "      <td>2005-06-03-15.42.50.982731</td>\n",
       "      <td>R02-M1-N0-C:J12-U11</td>\n",
       "      <td>RAS</td>\n",
       "      <td>KERNEL</td>\n",
       "      <td>INFO</td>\n",
       "      <td>instruction cache parity error corrected</td>\n",
       "      <td>instruction cache parity error corrected</td>\n",
       "      <td>E1</td>\n",
       "    </tr>\n",
       "  </tbody>\n",
       "</table>\n",
       "</div>"
      ],
      "text/plain": [
       "   Unnamed: 0 Label   Timestamp        Date                 Node  \\\n",
       "0           0     -  1117838570  2005.06.03  R02-M1-N0-C:J12-U11   \n",
       "1           1     -  1117838570  2005.06.03  R02-M1-N0-C:J12-U11   \n",
       "2           2     -  1117838570  2005.06.03  R02-M1-N0-C:J12-U11   \n",
       "3           3     -  1117838570  2005.06.03  R02-M1-N0-C:J12-U11   \n",
       "4           4     -  1117838570  2005.06.03  R02-M1-N0-C:J12-U11   \n",
       "\n",
       "                         Time           NodeRepeat Type Component Level  \\\n",
       "0  2005-06-03-15.42.50.363779  R02-M1-N0-C:J12-U11  RAS    KERNEL  INFO   \n",
       "1  2005-06-03-15.42.50.527847  R02-M1-N0-C:J12-U11  RAS    KERNEL  INFO   \n",
       "2  2005-06-03-15.42.50.675872  R02-M1-N0-C:J12-U11  RAS    KERNEL  INFO   \n",
       "3  2005-06-03-15.42.50.823719  R02-M1-N0-C:J12-U11  RAS    KERNEL  INFO   \n",
       "4  2005-06-03-15.42.50.982731  R02-M1-N0-C:J12-U11  RAS    KERNEL  INFO   \n",
       "\n",
       "                                    Content  \\\n",
       "0  instruction cache parity error corrected   \n",
       "1  instruction cache parity error corrected   \n",
       "2  instruction cache parity error corrected   \n",
       "3  instruction cache parity error corrected   \n",
       "4  instruction cache parity error corrected   \n",
       "\n",
       "                                   Template Event  \n",
       "0  instruction cache parity error corrected    E1  \n",
       "1  instruction cache parity error corrected    E1  \n",
       "2  instruction cache parity error corrected    E1  \n",
       "3  instruction cache parity error corrected    E1  \n",
       "4  instruction cache parity error corrected    E1  "
      ]
     },
     "execution_count": 7,
     "metadata": {},
     "output_type": "execute_result"
    }
   ],
   "source": [
    "df_parsed.head()"
   ]
  },
  {
   "cell_type": "code",
   "execution_count": 8,
   "metadata": {},
   "outputs": [
    {
     "name": "stdout",
     "output_type": "stream",
     "text": [
      "Windows count (1-hour long, step of 5min) : 61816\n",
      "Anomalous windows count : 35893\n",
      "Anomalous window rate : 58.06 %\n"
     ]
    }
   ],
   "source": [
    "print('Windows count (1-hour long, step of 5min) :',windows_count)\n",
    "print('Anomalous windows count :', anomalous_windows_count)\n",
    "print('Anomalous window rate :',round(anomalous_windows_ratio*100, 2),'%')"
   ]
  },
  {
   "cell_type": "code",
   "execution_count": 9,
   "metadata": {},
   "outputs": [
    {
     "data": {
      "text/html": [
       "<div>\n",
       "<style scoped>\n",
       "    .dataframe tbody tr th:only-of-type {\n",
       "        vertical-align: middle;\n",
       "    }\n",
       "\n",
       "    .dataframe tbody tr th {\n",
       "        vertical-align: top;\n",
       "    }\n",
       "\n",
       "    .dataframe thead th {\n",
       "        text-align: right;\n",
       "    }\n",
       "</style>\n",
       "<table border=\"1\" class=\"dataframe\">\n",
       "  <thead>\n",
       "    <tr style=\"text-align: right;\">\n",
       "      <th></th>\n",
       "      <th>Unnamed: 0</th>\n",
       "      <th>Window Start</th>\n",
       "      <th>Window End</th>\n",
       "      <th>Anomaly</th>\n",
       "      <th>1</th>\n",
       "      <th>2</th>\n",
       "      <th>3</th>\n",
       "      <th>4</th>\n",
       "      <th>5</th>\n",
       "      <th>6</th>\n",
       "      <th>...</th>\n",
       "      <th>1119</th>\n",
       "      <th>1120</th>\n",
       "      <th>1121</th>\n",
       "      <th>1122</th>\n",
       "      <th>1123</th>\n",
       "      <th>1124</th>\n",
       "      <th>1125</th>\n",
       "      <th>1126</th>\n",
       "      <th>1127</th>\n",
       "      <th>1128</th>\n",
       "    </tr>\n",
       "  </thead>\n",
       "  <tbody>\n",
       "    <tr>\n",
       "      <th>0</th>\n",
       "      <td>0</td>\n",
       "      <td>2005-06-03 15:42:50.363779</td>\n",
       "      <td>2005-06-03 16:42:50.363779</td>\n",
       "      <td>1</td>\n",
       "      <td>4863.0</td>\n",
       "      <td>14.0</td>\n",
       "      <td>10.0</td>\n",
       "      <td>65.0</td>\n",
       "      <td>3.0</td>\n",
       "      <td>4.0</td>\n",
       "      <td>...</td>\n",
       "      <td>0.0</td>\n",
       "      <td>0.0</td>\n",
       "      <td>0.0</td>\n",
       "      <td>0.0</td>\n",
       "      <td>0.0</td>\n",
       "      <td>0.0</td>\n",
       "      <td>0.0</td>\n",
       "      <td>0.0</td>\n",
       "      <td>0.0</td>\n",
       "      <td>0.0</td>\n",
       "    </tr>\n",
       "    <tr>\n",
       "      <th>1</th>\n",
       "      <td>1</td>\n",
       "      <td>2005-06-03 15:47:50.363779</td>\n",
       "      <td>2005-06-03 16:47:50.363779</td>\n",
       "      <td>1</td>\n",
       "      <td>3236.0</td>\n",
       "      <td>22.0</td>\n",
       "      <td>15.0</td>\n",
       "      <td>78.0</td>\n",
       "      <td>5.0</td>\n",
       "      <td>4.0</td>\n",
       "      <td>...</td>\n",
       "      <td>0.0</td>\n",
       "      <td>0.0</td>\n",
       "      <td>0.0</td>\n",
       "      <td>0.0</td>\n",
       "      <td>0.0</td>\n",
       "      <td>0.0</td>\n",
       "      <td>0.0</td>\n",
       "      <td>0.0</td>\n",
       "      <td>0.0</td>\n",
       "      <td>0.0</td>\n",
       "    </tr>\n",
       "    <tr>\n",
       "      <th>2</th>\n",
       "      <td>2</td>\n",
       "      <td>2005-06-03 15:52:50.363779</td>\n",
       "      <td>2005-06-03 16:52:50.363779</td>\n",
       "      <td>1</td>\n",
       "      <td>1660.0</td>\n",
       "      <td>16.0</td>\n",
       "      <td>15.0</td>\n",
       "      <td>78.0</td>\n",
       "      <td>5.0</td>\n",
       "      <td>4.0</td>\n",
       "      <td>...</td>\n",
       "      <td>0.0</td>\n",
       "      <td>0.0</td>\n",
       "      <td>0.0</td>\n",
       "      <td>0.0</td>\n",
       "      <td>0.0</td>\n",
       "      <td>0.0</td>\n",
       "      <td>0.0</td>\n",
       "      <td>0.0</td>\n",
       "      <td>0.0</td>\n",
       "      <td>0.0</td>\n",
       "    </tr>\n",
       "    <tr>\n",
       "      <th>3</th>\n",
       "      <td>3</td>\n",
       "      <td>2005-06-03 15:57:50.363779</td>\n",
       "      <td>2005-06-03 16:57:50.363779</td>\n",
       "      <td>1</td>\n",
       "      <td>857.0</td>\n",
       "      <td>16.0</td>\n",
       "      <td>15.0</td>\n",
       "      <td>78.0</td>\n",
       "      <td>5.0</td>\n",
       "      <td>4.0</td>\n",
       "      <td>...</td>\n",
       "      <td>0.0</td>\n",
       "      <td>0.0</td>\n",
       "      <td>0.0</td>\n",
       "      <td>0.0</td>\n",
       "      <td>0.0</td>\n",
       "      <td>0.0</td>\n",
       "      <td>0.0</td>\n",
       "      <td>0.0</td>\n",
       "      <td>0.0</td>\n",
       "      <td>0.0</td>\n",
       "    </tr>\n",
       "    <tr>\n",
       "      <th>4</th>\n",
       "      <td>4</td>\n",
       "      <td>2005-06-03 16:02:50.363779</td>\n",
       "      <td>2005-06-03 17:02:50.363779</td>\n",
       "      <td>1</td>\n",
       "      <td>0.0</td>\n",
       "      <td>16.0</td>\n",
       "      <td>14.0</td>\n",
       "      <td>77.0</td>\n",
       "      <td>4.0</td>\n",
       "      <td>4.0</td>\n",
       "      <td>...</td>\n",
       "      <td>0.0</td>\n",
       "      <td>0.0</td>\n",
       "      <td>0.0</td>\n",
       "      <td>0.0</td>\n",
       "      <td>0.0</td>\n",
       "      <td>0.0</td>\n",
       "      <td>0.0</td>\n",
       "      <td>0.0</td>\n",
       "      <td>0.0</td>\n",
       "      <td>0.0</td>\n",
       "    </tr>\n",
       "  </tbody>\n",
       "</table>\n",
       "<p>5 rows × 1132 columns</p>\n",
       "</div>"
      ],
      "text/plain": [
       "   Unnamed: 0                Window Start                  Window End  \\\n",
       "0           0  2005-06-03 15:42:50.363779  2005-06-03 16:42:50.363779   \n",
       "1           1  2005-06-03 15:47:50.363779  2005-06-03 16:47:50.363779   \n",
       "2           2  2005-06-03 15:52:50.363779  2005-06-03 16:52:50.363779   \n",
       "3           3  2005-06-03 15:57:50.363779  2005-06-03 16:57:50.363779   \n",
       "4           4  2005-06-03 16:02:50.363779  2005-06-03 17:02:50.363779   \n",
       "\n",
       "   Anomaly       1     2     3     4    5    6  ...  1119  1120  1121  1122  \\\n",
       "0        1  4863.0  14.0  10.0  65.0  3.0  4.0  ...   0.0   0.0   0.0   0.0   \n",
       "1        1  3236.0  22.0  15.0  78.0  5.0  4.0  ...   0.0   0.0   0.0   0.0   \n",
       "2        1  1660.0  16.0  15.0  78.0  5.0  4.0  ...   0.0   0.0   0.0   0.0   \n",
       "3        1   857.0  16.0  15.0  78.0  5.0  4.0  ...   0.0   0.0   0.0   0.0   \n",
       "4        1     0.0  16.0  14.0  77.0  4.0  4.0  ...   0.0   0.0   0.0   0.0   \n",
       "\n",
       "   1123  1124  1125  1126  1127  1128  \n",
       "0   0.0   0.0   0.0   0.0   0.0   0.0  \n",
       "1   0.0   0.0   0.0   0.0   0.0   0.0  \n",
       "2   0.0   0.0   0.0   0.0   0.0   0.0  \n",
       "3   0.0   0.0   0.0   0.0   0.0   0.0  \n",
       "4   0.0   0.0   0.0   0.0   0.0   0.0  \n",
       "\n",
       "[5 rows x 1132 columns]"
      ]
     },
     "execution_count": 9,
     "metadata": {},
     "output_type": "execute_result"
    }
   ],
   "source": [
    "df_aggregated.head()"
   ]
  },
  {
   "cell_type": "markdown",
   "metadata": {},
   "source": [
    "Modeling"
   ]
  },
  {
   "cell_type": "code",
   "execution_count": 10,
   "metadata": {},
   "outputs": [],
   "source": [
    "from sklearn.ensemble import RandomForestClassifier\n",
    "from sklearn.linear_model import LogisticRegression\n",
    "from sklearn.metrics import accuracy_score, precision_score, recall_score, roc_auc_score\n",
    "import pandas as pd"
   ]
  },
  {
   "cell_type": "code",
   "execution_count": 11,
   "metadata": {},
   "outputs": [],
   "source": [
    "# Load the preprocessed\n",
    "df = pd.read_csv('../csv/BGL-aggregated2.csv')\n",
    "\n",
    "# Sort the data by Datetime to ensure it's time-ordered\n",
    "df = df.sort_values(by='Window Start')"
   ]
  },
  {
   "cell_type": "code",
   "execution_count": 12,
   "metadata": {},
   "outputs": [],
   "source": [
    "# 60 / 20 / 20\n",
    "train_proportion = .6\n",
    "val_proportion = .2\n",
    "train_size = int(train_proportion * len(df))\n",
    "val_size = int(val_proportion * len(df))\n",
    "test_size = len(df) - train_size - val_size\n",
    "\n",
    "train_df = df.iloc[:train_size]\n",
    "val_df = df.iloc[train_size:train_size + val_size]\n",
    "test_df = df.iloc[train_size + val_size:]"
   ]
  },
  {
   "cell_type": "code",
   "execution_count": 13,
   "metadata": {},
   "outputs": [],
   "source": [
    "X_train = train_df.drop(columns=['Window Start', 'Window End', 'Anomaly'])  # Features\n",
    "y_train = train_df['Anomaly'].astype(int)  # Labels\n",
    "\n",
    "X_val = val_df.drop(columns=['Window Start', 'Window End', 'Anomaly'])\n",
    "y_val = val_df['Anomaly'].astype(int)\n",
    "\n",
    "X_test = test_df.drop(columns=['Window Start', 'Window End', 'Anomaly'])\n",
    "y_test = test_df['Anomaly'].astype(int)"
   ]
  },
  {
   "cell_type": "code",
   "execution_count": 14,
   "metadata": {},
   "outputs": [],
   "source": [
    "\n",
    "# Train Logistic Regression\n",
    "lr_model = LogisticRegression(max_iter=1000)\n",
    "lr_model.fit(X_train, y_train)\n",
    "lr_pred = lr_model.predict(X_test)"
   ]
  },
  {
   "cell_type": "code",
   "execution_count": 15,
   "metadata": {},
   "outputs": [],
   "source": [
    "# Train Random Forest\n",
    "rf_model = RandomForestClassifier()\n",
    "rf_model.fit(X_train, y_train)\n",
    "rf_pred = rf_model.predict(X_test)"
   ]
  },
  {
   "cell_type": "code",
   "execution_count": null,
   "metadata": {},
   "outputs": [
    {
     "name": "stdout",
     "output_type": "stream",
     "text": [
      "{'accuracy': 0.655, 'precision': 1.0, 'AUC': 0.646, 'recall': 0.293}\n",
      "{'accuracy': 0.672, 'precision': 1.0, 'AUC': 0.664, 'recall': 0.328}\n"
     ]
    }
   ],
   "source": [
    "# Evaluation function\n",
    "def evaluation(y_true, y_pred):\n",
    "    accuracy = accuracy_score(y_true, y_pred)\n",
    "    precision = precision_score(y_true, y_pred)\n",
    "    recall = recall_score(y_true, y_pred)\n",
    "    auc = roc_auc_score(y_true, y_pred)\n",
    "    dico = {\n",
    "        \"accuracy\":round(accuracy, 3), \n",
    "        \"precision\":round(precision, 3), \n",
    "        \"AUC\":round(auc, 3), \n",
    "        \"recall\":round(recall, 3)\n",
    "        }\n",
    "    return dico\n",
    "\n",
    "random_forest_scores = evaluation(y_test, rf_pred)\n",
    "logistic_reg_scores = evaluation(y_test, lr_pred)\n",
    "# Evaluate each model on the test set\n",
    "print(random_forest_scores)\n",
    "print(logistic_reg_scores)"
   ]
  },
  {
   "cell_type": "code",
   "execution_count": 17,
   "metadata": {},
   "outputs": [
    {
     "data": {
      "image/png": "[encoded data removed]",
      "text/plain": [
       "<Figure size 640x480 with 1 Axes>"
      ]
     },
     "metadata": {},
     "output_type": "display_data"
    },
    {
     "data": {
      "image/png": "[encoded data removed]",
      "text/plain": [
       "<Figure size 640x480 with 1 Axes>"
      ]
     },
     "metadata": {},
     "output_type": "display_data"
    }
   ],
   "source": [
    "import matplotlib.pyplot as plt\n",
    "\n",
    "def plotScores(scores: dict, name: str):\n",
    "  categories = ['accuracy', 'precision','AUC','recall']\n",
    "  valeurs = [scores[i] for i in categories]\n",
    "\n",
    "  \n",
    "  plt.bar(categories, valeurs, color=['blue', 'green', 'orange'])\n",
    "\n",
    "  \n",
    "  plt.title(name)\n",
    "  plt.ylim(0, 1)\n",
    "\n",
    "  \n",
    "  plt.show()\n",
    "\n",
    "plotScores(random_forest_scores, 'Random Forest')\n",
    "plotScores(logistic_reg_scores, 'Logistic Regression')"
   ]
  },
  {
   "cell_type": "code",
   "execution_count": 35,
   "metadata": {},
   "outputs": [
    {
     "name": "stdout",
     "output_type": "stream",
     "text": [
      "0\n"
     ]
    }
   ],
   "source": [
    "events = [{\"E0\":\"Template\"}]\n",
    "print(int(list(events[0].keys())[0][1:]))"
   ]
  }
 ],
 "metadata": {
  "kernelspec": {
   "display_name": "Python 3",
   "language": "python",
   "name": "python3"
  },
  "language_info": {
   "codemirror_mode": {
    "name": "ipython",
    "version": 3
   },
   "file_extension": ".py",
   "mimetype": "text/x-python",
   "name": "python",
   "nbconvert_exporter": "python",
   "pygments_lexer": "ipython3",
   "version": "3.12.3"
  }
 },
 "nbformat": 4,
 "nbformat_minor": 2
}
